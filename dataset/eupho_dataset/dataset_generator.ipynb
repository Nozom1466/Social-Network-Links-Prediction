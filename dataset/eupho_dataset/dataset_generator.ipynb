{
 "cells": [
  {
   "cell_type": "code",
   "execution_count": 1,
   "metadata": {
    "collapsed": true
   },
   "outputs": [
    {
     "name": "stdout",
     "output_type": "stream",
     "text": [
      "Working...\n"
     ]
    }
   ],
   "source": [
    "print(\"Working...\")"
   ]
  },
  {
   "cell_type": "markdown",
   "source": [
    "## Data format"
   ],
   "metadata": {
    "collapsed": false
   }
  },
  {
   "cell_type": "markdown",
   "source": [
    "{\n",
    "    \"nodes\":[\n",
    "        {\n",
    "            \"id\": ...,\n",
    "            \"name\": ...,\n",
    "            \"symbolSize\": ...,\n",
    "            \"value\": ...,\n",
    "            \"category\": ...\n",
    "        },\n",
    "        ...\n",
    "    ],\n",
    "    \"links\":[\n",
    "        {\n",
    "            \"source\": \"...\",\n",
    "            \"target\": \"...\"\n",
    "        },\n",
    "        ...\n",
    "    ],\n",
    "    \"categories\":[\n",
    "        {\n",
    "            \"name\": \"...\"\n",
    "        },\n",
    "        ...\n",
    "    ]\n",
    "}"
   ],
   "metadata": {
    "collapsed": false
   }
  },
  {
   "cell_type": "markdown",
   "source": [
    "## Tool Functions"
   ],
   "metadata": {
    "collapsed": false
   }
  },
  {
   "cell_type": "code",
   "execution_count": 155,
   "outputs": [],
   "source": [
    "from typing import Dict, List\n"
   ],
   "metadata": {
    "collapsed": false
   }
  },
  {
   "cell_type": "code",
   "execution_count": 156,
   "outputs": [],
   "source": [
    "def create_node(id: int, name: str, symbolSize: float, value: float, category: int) -> Dict:\n",
    "    node = dict()\n",
    "\n",
    "    node[\"id\"] = str(id)\n",
    "    node[\"name\"] = name\n",
    "    node[\"symbolSize\"] = symbolSize\n",
    "    node[\"value\"] = value\n",
    "    node[\"category\"] = category\n",
    "\n",
    "    return node\n",
    "\n",
    "def create_link(source: int, target: int) -> Dict:\n",
    "    link = dict()\n",
    "\n",
    "    link[\"source\"] = str(source)\n",
    "    link[\"target\"] = str(target)\n",
    "\n",
    "    return link\n",
    "\n",
    "def create_category(name: str, number: int) -> Dict:\n",
    "    category = dict()\n",
    "\n",
    "    category[\"name\"] = name\n",
    "    category[\"number\"] = number\n",
    "\n",
    "    return category"
   ],
   "metadata": {
    "collapsed": false
   }
  },
  {
   "cell_type": "code",
   "execution_count": 157,
   "outputs": [],
   "source": [
    "def add_components(nodes: Dict, links: Dict, categories: Dict) -> Dict:\n",
    "    graph = dict()\n",
    "\n",
    "    graph[\"nodes\"] = nodes\n",
    "    graph[\"links\"] = links\n",
    "    graph[\"categories\"] = categories\n",
    "\n",
    "    return graph"
   ],
   "metadata": {
    "collapsed": false
   }
  },
  {
   "cell_type": "markdown",
   "source": [
    "## Data Source"
   ],
   "metadata": {
    "collapsed": false
   }
  },
  {
   "cell_type": "code",
   "execution_count": 158,
   "outputs": [],
   "source": [
    "# characters in Sound! Euphonium\n",
    "name_list_eupho = [\n",
    "    \"加瀨舞菜\",\n",
    "    \"鳥塚弘音\",\n",
    "    \"島理惠\",\n",
    "    \"植田日和子\",\n",
    "    \"松崎洋子\",\n",
    "    \"萩原笙子\",\n",
    "    \"鈴鹿咲子\",\n",
    "    \"田中須加實\",\n",
    "    \"高久智惠理\",\n",
    "    \"高野久惠\",\n",
    "    \"大口弓菜\",\n",
    "    \"臼井仁\",\n",
    "    \"越川純子\",\n",
    "    \"岡美貴乃\",\n",
    "    \"喜多村來南\",\n",
    "    \"鎧塚霙\",\n",
    "    \"渡邊恆\",\n",
    "    \"姬神琴子\",\n",
    "    \"高橋沙里\",\n",
    "    \"三原京子\",\n",
    "    \"井上調\",\n",
    "    \"小田芽衣子\",\n",
    "    \"中野蕾實\",\n",
    "    \"雜賀賴子\",\n",
    "    \"宮桐子\",\n",
    "    \"岡本來夢\",\n",
    "    \"森田忍\",\n",
    "    \"橋弘江\",\n",
    "    \"牧誓\",\n",
    "    \"齋藤葵\",\n",
    "    \"平尾澄子\",\n",
    "    \"瀧川近夫\",\n",
    "    \"小笠原晴香\",\n",
    "    \"中世古香織\",\n",
    "    \"高坂麗奈\",\n",
    "    \"加部友惠\",\n",
    "    \"吉川優子\",\n",
    "    \"吉澤秋子\",\n",
    "    \"笠野沙菜\",\n",
    "    \"瀧野純一\",\n",
    "    \"野口日照\",\n",
    "    \"赤松麻紀\",\n",
    "    \"田浦愛衣\",\n",
    "    \"塚本秀一\",\n",
    "    \"福井沙耶香\",\n",
    "    \"岩田慧菜\",\n",
    "    \"澤田樹里\",\n",
    "    \"加橋比呂\",\n",
    "    \"森本美千代\",\n",
    "    \"瞳拉拉\",\n",
    "    \"岸部海松\",\n",
    "    \"田中明日香\",\n",
    "    \"黃前久美子\",\n",
    "    \"中川夏紀\",\n",
    "    \"後藤卓也\",\n",
    "    \"長瀨梨子\",\n",
    "    \"加藤葉月\",\n",
    "    \"川島綠輝\",\n",
    "    \"田邊名來\",\n",
    "    \"加山沙希\",\n",
    "    \"大野美代子\",\n",
    "    \"堺萬紗子\",\n",
    "    \"井上順菜\",\n",
    "    \"釜屋燕\",\n",
    "    \"芦田聖子\",\n",
    "    \"井村卓\",\n",
    "    \"加藤树\",\n",
    "    \"北山泰瑠\",\n",
    "    \"坂崎彩子\",\n",
    "    \"端田麻椰\",\n",
    "    \"平沼诗织\",\n",
    "    \"剑崎梨梨花\",\n",
    "    \"兜谷爱瑠\",\n",
    "    \"笼手山骏河\",\n",
    "    \"江藤香奈\",\n",
    "    \"平石成美\",\n",
    "    \"山根都美贵\",\n",
    "    \"鲇川京子\",\n",
    "    \"内田Babe\",\n",
    "    \"远藤正\",\n",
    "    \"大泷七海\",\n",
    "    \"铃木靖也\",\n",
    "    \"奈良町子\",\n",
    "    \"服部半叶\",\n",
    "    \"细野暖奈\",\n",
    "    \"松本桐\",\n",
    "    \"浅仓玉里\",\n",
    "    \"小日向梦\",\n",
    "    \"贵水卓\",\n",
    "    \"泷野沙耶香\",\n",
    "    \"吉川真衣弥\",\n",
    "    \"叶加濑满\",\n",
    "    \"布袋知美\",\n",
    "    \"小原爱音\",\n",
    "    \"土屋响\",\n",
    "    \"深町澄子\",\n",
    "    \"屋敷早苗\",\n",
    "    \"铃木五月\",\n",
    "    \"铃木美玲\",\n",
    "    \"久石奏\",\n",
    "    \"月永求\",\n",
    "    \"北田亩\",\n",
    "    \"林来理\",\n",
    "    \"东浦心子\",\n",
    "    \"前田苍太\",\n",
    "    \"前田飒介\",\n",
    "    \"町田道子\",\n",
    "    \"佐佐木梓\",\n",
    "    \"名濑雨未华\",\n",
    "    \"户川志保\",\n",
    "    \"的场太一\",\n",
    "    \"西条花音\",\n",
    "    \"西条美音\",\n",
    "    \"桥本杏奈\",\n",
    "    \"濑崎未来\",\n",
    "    \"高木栞\",\n",
    "    \"森冈翔子\",\n",
    "    \"小山桃花\",\n",
    "    \"神田南\",\n",
    "    \"黄前麻美子\",\n",
    "    \"川岛琥珀\",\n",
    "    \"泷千寻\",\n",
    "    \"伊藤杏子\",\n",
    "    \"黑江真由\",\n",
    "    \"柊木芹菜\",\n",
    "    \"針谷佳穗\",\n",
    "    \"上石彌生\",\n",
    "    \"釜屋雀\",\n",
    "    \"義井沙里\",\n",
    "    \"瀧昇\",\n",
    "    \"松本美知惠\",\n",
    "    \"新山聰美\",\n",
    "    \"橋本真博\",\n",
    "]\n",
    "\n",
    "# characters randomly created\n",
    "name_list_random = [\n",
    "    \"穴澤広隆\",\n",
    "    \"正源司留利\",\n",
    "    \"花渕苑実\",\n",
    "    \"三ツ石愛弥\",\n",
    "    \"時田優実\",\n",
    "    \"久米井尚三\",\n",
    "    \"室賀成行\",\n",
    "    \"大湯惠子\",\n",
    "    \"池谷佐也加\",\n",
    "    \"永由圭那子\",\n",
    "    \"牛田綾奈\",\n",
    "    \"金場友莉\",\n",
    "    \"上溝紗代\",\n",
    "    \"有藤卓弘\",\n",
    "    \"元由美来\",\n",
    "    \"西田六郎\",\n",
    "    \"辻村崇晃\",\n",
    "    \"阪下信博\",\n",
    "    \"河達人\",\n",
    "    \"夜神紀恵\",\n",
    "    \"灘山尚一\",\n",
    "    \"麻義太郎\",\n",
    "    \"大音裕人\",\n",
    "    \"海老晶穂\",\n",
    "    \"杉中花世\",\n",
    "    \"大田実侑\",\n",
    "    \"常喜典\",\n",
    "    \"矢守小太郎\",\n",
    "    \"反町正紀\",\n",
    "    \"枝澤佑妃\",\n",
    "    \"大内山希久代\",\n",
    "    \"井手口恒久\",\n",
    "    \"伊井野瑠以\",\n",
    "    \"池守賢子\",\n",
    "    \"下野託也\",\n",
    "    \"臺愛恵\",\n",
    "    \"祝園桂三\",\n",
    "    \"葛原顯\",\n",
    "    \"多良間泰史\",\n",
    "    \"斎賀靖高\",\n",
    "]\n",
    "\n",
    "# organizations randomly created\n",
    "organization_list_random_club = [\n",
    "    \"棒球部\",\n",
    "    \"排球部\",\n",
    "    \"羽毛球部\",\n",
    "    \"乒乓球部\",\n",
    "    \"弓道部\",\n",
    "    \"跆拳道部\",\n",
    "    \"游泳部\",\n",
    "    \"吹奏乐部\",\n",
    "    \"轻音部\",\n",
    "    \"茶道部\",\n",
    "    \"书道部\",\n",
    "    \"摄影部\",\n",
    "    \"美术部\",\n",
    "    \"文学部\",\n",
    "]\n",
    "\n",
    "## reference : https://ja.wikipedia.org/wiki/%E4%BA%AC%E9%83%BD%E5%BA%9C%E5%B0%8F%E5%AD%A6%E6%A0%A1%E4%B8%80%E8%A6%A7, https://ja.wikipedia.org/wiki/%E4%BA%AC%E9%83%BD%E5%BA%9C%E4%B8%AD%E5%AD%A6%E6%A0%A1%E4%B8%80%E8%A6%A7\n",
    "organization_list_random_primary_school = [\n",
    "    \"宇治市立宇治小学校\",\n",
    "    \"宇治市立菟道小学校\",\n",
    "    \"宇治市立槇島小学校\",\n",
    "    \"宇治市立大開小学校\",\n",
    "]\n",
    "\n",
    "organization_list_random_junior_school = [\n",
    "    \"宇治市立北宇治中学校\",\n",
    "    \"宇治市立南宇治中学校\",\n",
    "    \"宇治市立西宇治中学校\",\n",
    "    \"宇治市立木幡中学校\",\n",
    "]\n",
    "\n",
    "organization_list_random_high_school = [\n",
    "    \"京都府立莵道高等学校\",\n",
    "    \"京都府立東宇治高等学校\",\n",
    "    \"洛南高等学校\",\n",
    "    \"京都橘高等学校\",\n",
    "    \"京都光華高等学校\",\n",
    "]\n",
    "\n",
    "# events randomly created\n",
    "event_list_random = [\n",
    "    \"京都府吹奏乐大赛\",\n",
    "    \"高中足球联赛\",\n",
    "    \"甲子园\",\n",
    "    \"全国高中羽毛球联赛\"\n",
    "]"
   ],
   "metadata": {
    "collapsed": false
   }
  },
  {
   "cell_type": "markdown",
   "source": [
    "## Add Nodes"
   ],
   "metadata": {
    "collapsed": false
   }
  },
  {
   "cell_type": "code",
   "execution_count": 159,
   "outputs": [],
   "source": [
    "import random"
   ],
   "metadata": {
    "collapsed": false
   }
  },
  {
   "cell_type": "code",
   "execution_count": 160,
   "outputs": [],
   "source": [
    "id_dict = dict()\n",
    "nodes = list()\n",
    "index = 0"
   ],
   "metadata": {
    "collapsed": false
   }
  },
  {
   "cell_type": "code",
   "execution_count": 161,
   "outputs": [],
   "source": [
    "def add_node(node_list: List, id: int, category: int) -> int:\n",
    "    index = id\n",
    "    for node_name in node_list:\n",
    "        index += 1\n",
    "        temp_node = create_node(\n",
    "            id=index,\n",
    "            name=node_name,\n",
    "            symbolSize=random.randint(15, 28),\n",
    "            value=10,\n",
    "            category=category\n",
    "        )\n",
    "        id_dict[node_name] = index\n",
    "        nodes.append(temp_node)\n",
    "    return index"
   ],
   "metadata": {
    "collapsed": false
   }
  },
  {
   "cell_type": "code",
   "execution_count": 162,
   "outputs": [],
   "source": [
    "index = add_node(\n",
    "    node_list=name_list_random,\n",
    "    id=index,\n",
    "    category=0\n",
    ")\n",
    "\n",
    "index = add_node(\n",
    "    node_list=organization_list_random_club,\n",
    "    id=index,\n",
    "    category=1\n",
    ")\n",
    "\n",
    "index = add_node(\n",
    "    node_list=organization_list_random_primary_school,\n",
    "    id=index,\n",
    "    category=2\n",
    ")\n",
    "\n",
    "index = add_node(\n",
    "    node_list=organization_list_random_junior_school,\n",
    "    id=index,\n",
    "    category=3\n",
    ")\n",
    "\n",
    "index = add_node(\n",
    "    node_list=organization_list_random_high_school,\n",
    "    id=index,\n",
    "    category=4\n",
    ")\n",
    "\n",
    "# index = add_node(\n",
    "#     node_list=event_list_random,\n",
    "#     id=index,\n",
    "#     category=5\n",
    "# )\n"
   ],
   "metadata": {
    "collapsed": false
   }
  },
  {
   "cell_type": "code",
   "execution_count": 163,
   "outputs": [
    {
     "data": {
      "text/plain": "67"
     },
     "execution_count": 163,
     "metadata": {},
     "output_type": "execute_result"
    }
   ],
   "source": [
    "index"
   ],
   "metadata": {
    "collapsed": false
   }
  },
  {
   "cell_type": "markdown",
   "source": [
    "## Add links"
   ],
   "metadata": {
    "collapsed": false
   }
  },
  {
   "cell_type": "code",
   "execution_count": 164,
   "outputs": [],
   "source": [
    "links = list()"
   ],
   "metadata": {
    "collapsed": false
   }
  },
  {
   "cell_type": "code",
   "execution_count": 165,
   "outputs": [],
   "source": [
    "import random"
   ],
   "metadata": {
    "collapsed": false
   }
  },
  {
   "cell_type": "code",
   "execution_count": 166,
   "outputs": [],
   "source": [
    "def link_friendship(up : int=3) -> None:\n",
    "    num_person = len(name_list_random)\n",
    "    for person in name_list_random:\n",
    "        rand_list = random.sample(range(0, num_person), random.randint(1, up + 1))\n",
    "        for friend_idx in rand_list:\n",
    "            friend = name_list_random[friend_idx]\n",
    "            if friend == person:\n",
    "                continue\n",
    "            temp_link = create_link(id_dict[person], id_dict[friend])\n",
    "            links.append(temp_link)\n",
    "\n",
    "def link_person_organization(up: int=2) -> None:\n",
    "    num_club = len(organization_list_random_club)\n",
    "    num_primary_school = len(organization_list_random_primary_school)\n",
    "    num_junior_school = len(organization_list_random_junior_school)\n",
    "    num_high_school = len(organization_list_random_high_school)\n",
    "\n",
    "    for person in name_list_random:\n",
    "        # club\n",
    "        rand_list_club = random.sample(range(0, num_club), random.randint(0, up + 1))\n",
    "        if len(rand_list_club) > 0:\n",
    "            for club_idx in rand_list_club:\n",
    "                club = organization_list_random_club[club_idx]\n",
    "                temp_link = create_link(id_dict[person], id_dict[club])\n",
    "                links.append(temp_link)\n",
    "\n",
    "        # primary school\n",
    "        rand_list_primary_school = random.sample(range(0, num_primary_school), random.randint(0, 1))\n",
    "        if len(rand_list_primary_school) > 0:\n",
    "            for primary_school_idx in rand_list_primary_school:\n",
    "                primary_school = organization_list_random_primary_school[primary_school_idx]\n",
    "                temp_link = create_link(id_dict[person], id_dict[primary_school])\n",
    "                links.append(temp_link)\n",
    "\n",
    "        # junior school\n",
    "        rand_list_junior_school = random.sample(range(0, num_junior_school), random.randint(0, 1))\n",
    "        if len(rand_list_junior_school) > 0:\n",
    "            for junior_school_idx in rand_list_junior_school:\n",
    "                junior_school = organization_list_random_junior_school[junior_school_idx]\n",
    "                temp_link = create_link(id_dict[person], id_dict[junior_school])\n",
    "                links.append(temp_link)\n",
    "\n",
    "        # high school\n",
    "        rand_list_high_school = random.sample(range(0, num_high_school), random.randint(0, 1))\n",
    "        if len(rand_list_high_school) > 0:\n",
    "            for high_school_idx in rand_list_high_school:\n",
    "                high_school = organization_list_random_high_school[high_school_idx]\n",
    "                temp_link = create_link(id_dict[person], id_dict[high_school])\n",
    "                links.append(temp_link)\n"
   ],
   "metadata": {
    "collapsed": false
   }
  },
  {
   "cell_type": "code",
   "execution_count": 167,
   "outputs": [],
   "source": [
    "def add_link(up_friendship: int=3, up_organization: int=2):\n",
    "    link_friendship(up_friendship)\n",
    "    link_person_organization(up_organization)"
   ],
   "metadata": {
    "collapsed": false
   }
  },
  {
   "cell_type": "code",
   "execution_count": 168,
   "outputs": [],
   "source": [
    "add_link()"
   ],
   "metadata": {
    "collapsed": false
   }
  },
  {
   "cell_type": "code",
   "execution_count": 169,
   "outputs": [
    {
     "data": {
      "text/plain": "213"
     },
     "execution_count": 169,
     "metadata": {},
     "output_type": "execute_result"
    }
   ],
   "source": [
    "len(links)"
   ],
   "metadata": {
    "collapsed": false
   }
  },
  {
   "cell_type": "markdown",
   "source": [
    "## Add categories"
   ],
   "metadata": {
    "collapsed": false
   }
  },
  {
   "cell_type": "code",
   "execution_count": 170,
   "outputs": [],
   "source": [
    "categories = list()"
   ],
   "metadata": {
    "collapsed": false
   }
  },
  {
   "cell_type": "code",
   "execution_count": 171,
   "outputs": [],
   "source": [
    "categories_list = [\n",
    "    \"person\",\n",
    "    \"club\",\n",
    "    \"primary\",\n",
    "    \"junior\",\n",
    "    \"high\"\n",
    "]"
   ],
   "metadata": {
    "collapsed": false
   }
  },
  {
   "cell_type": "code",
   "execution_count": 172,
   "outputs": [],
   "source": [
    "def add_categories():\n",
    "    lengths = list()\n",
    "    lengths.append(len(name_list_random))\n",
    "    lengths.append(len(organization_list_random_club))\n",
    "    lengths.append(len(organization_list_random_primary_school))\n",
    "    lengths.append(len(organization_list_random_junior_school))\n",
    "    lengths.append(len(organization_list_random_high_school))\n",
    "\n",
    "    for i in range(0, len(categories_list)):\n",
    "        temp_category = create_category(categories_list[i], lengths[i])\n",
    "        categories.append(temp_category)"
   ],
   "metadata": {
    "collapsed": false
   }
  },
  {
   "cell_type": "code",
   "execution_count": 173,
   "outputs": [],
   "source": [
    "add_categories()"
   ],
   "metadata": {
    "collapsed": false
   }
  },
  {
   "cell_type": "code",
   "execution_count": 174,
   "outputs": [
    {
     "data": {
      "text/plain": "[{'name': 'person', 'number': 40},\n {'name': 'club', 'number': 14},\n {'name': 'primary', 'number': 4},\n {'name': 'junior', 'number': 4},\n {'name': 'high', 'number': 5}]"
     },
     "execution_count": 174,
     "metadata": {},
     "output_type": "execute_result"
    }
   ],
   "source": [
    "categories"
   ],
   "metadata": {
    "collapsed": false
   }
  },
  {
   "cell_type": "markdown",
   "source": [
    "## Assemble components"
   ],
   "metadata": {
    "collapsed": false
   }
  },
  {
   "cell_type": "code",
   "execution_count": 175,
   "outputs": [],
   "source": [
    "graph = add_components(\n",
    "    nodes=nodes,\n",
    "    links=links,\n",
    "    categories=categories\n",
    ")"
   ],
   "metadata": {
    "collapsed": false
   }
  },
  {
   "cell_type": "code",
   "execution_count": 176,
   "outputs": [
    {
     "data": {
      "text/plain": "{'nodes': [{'id': '1',\n   'name': '穴澤広隆',\n   'symbolSize': 15,\n   'value': 10,\n   'category': 0},\n  {'id': '2', 'name': '正源司留利', 'symbolSize': 28, 'value': 10, 'category': 0},\n  {'id': '3', 'name': '花渕苑実', 'symbolSize': 26, 'value': 10, 'category': 0},\n  {'id': '4', 'name': '三ツ石愛弥', 'symbolSize': 16, 'value': 10, 'category': 0},\n  {'id': '5', 'name': '時田優実', 'symbolSize': 28, 'value': 10, 'category': 0},\n  {'id': '6', 'name': '久米井尚三', 'symbolSize': 26, 'value': 10, 'category': 0},\n  {'id': '7', 'name': '室賀成行', 'symbolSize': 20, 'value': 10, 'category': 0},\n  {'id': '8', 'name': '大湯惠子', 'symbolSize': 16, 'value': 10, 'category': 0},\n  {'id': '9', 'name': '池谷佐也加', 'symbolSize': 20, 'value': 10, 'category': 0},\n  {'id': '10', 'name': '永由圭那子', 'symbolSize': 25, 'value': 10, 'category': 0},\n  {'id': '11', 'name': '牛田綾奈', 'symbolSize': 24, 'value': 10, 'category': 0},\n  {'id': '12', 'name': '金場友莉', 'symbolSize': 28, 'value': 10, 'category': 0},\n  {'id': '13', 'name': '上溝紗代', 'symbolSize': 28, 'value': 10, 'category': 0},\n  {'id': '14', 'name': '有藤卓弘', 'symbolSize': 23, 'value': 10, 'category': 0},\n  {'id': '15', 'name': '元由美来', 'symbolSize': 27, 'value': 10, 'category': 0},\n  {'id': '16', 'name': '西田六郎', 'symbolSize': 21, 'value': 10, 'category': 0},\n  {'id': '17', 'name': '辻村崇晃', 'symbolSize': 20, 'value': 10, 'category': 0},\n  {'id': '18', 'name': '阪下信博', 'symbolSize': 15, 'value': 10, 'category': 0},\n  {'id': '19', 'name': '河達人', 'symbolSize': 18, 'value': 10, 'category': 0},\n  {'id': '20', 'name': '夜神紀恵', 'symbolSize': 18, 'value': 10, 'category': 0},\n  {'id': '21', 'name': '灘山尚一', 'symbolSize': 16, 'value': 10, 'category': 0},\n  {'id': '22', 'name': '麻義太郎', 'symbolSize': 16, 'value': 10, 'category': 0},\n  {'id': '23', 'name': '大音裕人', 'symbolSize': 23, 'value': 10, 'category': 0},\n  {'id': '24', 'name': '海老晶穂', 'symbolSize': 24, 'value': 10, 'category': 0},\n  {'id': '25', 'name': '杉中花世', 'symbolSize': 16, 'value': 10, 'category': 0},\n  {'id': '26', 'name': '大田実侑', 'symbolSize': 27, 'value': 10, 'category': 0},\n  {'id': '27', 'name': '常喜典', 'symbolSize': 18, 'value': 10, 'category': 0},\n  {'id': '28', 'name': '矢守小太郎', 'symbolSize': 28, 'value': 10, 'category': 0},\n  {'id': '29', 'name': '反町正紀', 'symbolSize': 18, 'value': 10, 'category': 0},\n  {'id': '30', 'name': '枝澤佑妃', 'symbolSize': 18, 'value': 10, 'category': 0},\n  {'id': '31', 'name': '大内山希久代', 'symbolSize': 24, 'value': 10, 'category': 0},\n  {'id': '32', 'name': '井手口恒久', 'symbolSize': 25, 'value': 10, 'category': 0},\n  {'id': '33', 'name': '伊井野瑠以', 'symbolSize': 24, 'value': 10, 'category': 0},\n  {'id': '34', 'name': '池守賢子', 'symbolSize': 24, 'value': 10, 'category': 0},\n  {'id': '35', 'name': '下野託也', 'symbolSize': 28, 'value': 10, 'category': 0},\n  {'id': '36', 'name': '臺愛恵', 'symbolSize': 23, 'value': 10, 'category': 0},\n  {'id': '37', 'name': '祝園桂三', 'symbolSize': 16, 'value': 10, 'category': 0},\n  {'id': '38', 'name': '葛原顯', 'symbolSize': 17, 'value': 10, 'category': 0},\n  {'id': '39', 'name': '多良間泰史', 'symbolSize': 25, 'value': 10, 'category': 0},\n  {'id': '40', 'name': '斎賀靖高', 'symbolSize': 16, 'value': 10, 'category': 0},\n  {'id': '41', 'name': '棒球部', 'symbolSize': 28, 'value': 10, 'category': 1},\n  {'id': '42', 'name': '排球部', 'symbolSize': 24, 'value': 10, 'category': 1},\n  {'id': '43', 'name': '羽毛球部', 'symbolSize': 15, 'value': 10, 'category': 1},\n  {'id': '44', 'name': '乒乓球部', 'symbolSize': 16, 'value': 10, 'category': 1},\n  {'id': '45', 'name': '弓道部', 'symbolSize': 21, 'value': 10, 'category': 1},\n  {'id': '46', 'name': '跆拳道部', 'symbolSize': 20, 'value': 10, 'category': 1},\n  {'id': '47', 'name': '游泳部', 'symbolSize': 18, 'value': 10, 'category': 1},\n  {'id': '48', 'name': '吹奏乐部', 'symbolSize': 18, 'value': 10, 'category': 1},\n  {'id': '49', 'name': '轻音部', 'symbolSize': 20, 'value': 10, 'category': 1},\n  {'id': '50', 'name': '茶道部', 'symbolSize': 28, 'value': 10, 'category': 1},\n  {'id': '51', 'name': '书道部', 'symbolSize': 27, 'value': 10, 'category': 1},\n  {'id': '52', 'name': '摄影部', 'symbolSize': 19, 'value': 10, 'category': 1},\n  {'id': '53', 'name': '美术部', 'symbolSize': 26, 'value': 10, 'category': 1},\n  {'id': '54', 'name': '文学部', 'symbolSize': 18, 'value': 10, 'category': 1},\n  {'id': '55',\n   'name': '宇治市立宇治小学校',\n   'symbolSize': 23,\n   'value': 10,\n   'category': 2},\n  {'id': '56',\n   'name': '宇治市立菟道小学校',\n   'symbolSize': 26,\n   'value': 10,\n   'category': 2},\n  {'id': '57',\n   'name': '宇治市立槇島小学校',\n   'symbolSize': 27,\n   'value': 10,\n   'category': 2},\n  {'id': '58',\n   'name': '宇治市立大開小学校',\n   'symbolSize': 26,\n   'value': 10,\n   'category': 2},\n  {'id': '59',\n   'name': '宇治市立北宇治中学校',\n   'symbolSize': 28,\n   'value': 10,\n   'category': 3},\n  {'id': '60',\n   'name': '宇治市立南宇治中学校',\n   'symbolSize': 15,\n   'value': 10,\n   'category': 3},\n  {'id': '61',\n   'name': '宇治市立西宇治中学校',\n   'symbolSize': 20,\n   'value': 10,\n   'category': 3},\n  {'id': '62',\n   'name': '宇治市立木幡中学校',\n   'symbolSize': 17,\n   'value': 10,\n   'category': 3},\n  {'id': '63',\n   'name': '京都府立莵道高等学校',\n   'symbolSize': 25,\n   'value': 10,\n   'category': 4},\n  {'id': '64',\n   'name': '京都府立東宇治高等学校',\n   'symbolSize': 20,\n   'value': 10,\n   'category': 4},\n  {'id': '65', 'name': '洛南高等学校', 'symbolSize': 17, 'value': 10, 'category': 4},\n  {'id': '66',\n   'name': '京都橘高等学校',\n   'symbolSize': 16,\n   'value': 10,\n   'category': 4},\n  {'id': '67',\n   'name': '京都光華高等学校',\n   'symbolSize': 25,\n   'value': 10,\n   'category': 4}],\n 'links': [{'source': '1', 'target': '7'},\n  {'source': '2', 'target': '5'},\n  {'source': '3', 'target': '1'},\n  {'source': '3', 'target': '34'},\n  {'source': '3', 'target': '17'},\n  {'source': '4', 'target': '38'},\n  {'source': '4', 'target': '21'},\n  {'source': '5', 'target': '21'},\n  {'source': '6', 'target': '20'},\n  {'source': '6', 'target': '8'},\n  {'source': '6', 'target': '38'},\n  {'source': '7', 'target': '35'},\n  {'source': '7', 'target': '29'},\n  {'source': '7', 'target': '28'},\n  {'source': '8', 'target': '2'},\n  {'source': '8', 'target': '1'},\n  {'source': '9', 'target': '7'},\n  {'source': '9', 'target': '22'},\n  {'source': '9', 'target': '10'},\n  {'source': '10', 'target': '11'},\n  {'source': '10', 'target': '20'},\n  {'source': '10', 'target': '36'},\n  {'source': '10', 'target': '3'},\n  {'source': '11', 'target': '30'},\n  {'source': '11', 'target': '21'},\n  {'source': '11', 'target': '13'},\n  {'source': '12', 'target': '13'},\n  {'source': '13', 'target': '5'},\n  {'source': '13', 'target': '39'},\n  {'source': '14', 'target': '32'},\n  {'source': '14', 'target': '9'},\n  {'source': '14', 'target': '2'},\n  {'source': '15', 'target': '34'},\n  {'source': '16', 'target': '31'},\n  {'source': '16', 'target': '26'},\n  {'source': '16', 'target': '4'},\n  {'source': '17', 'target': '20'},\n  {'source': '17', 'target': '24'},\n  {'source': '17', 'target': '5'},\n  {'source': '18', 'target': '13'},\n  {'source': '18', 'target': '33'},\n  {'source': '18', 'target': '5'},\n  {'source': '18', 'target': '3'},\n  {'source': '19', 'target': '38'},\n  {'source': '19', 'target': '30'},\n  {'source': '20', 'target': '28'},\n  {'source': '21', 'target': '5'},\n  {'source': '22', 'target': '10'},\n  {'source': '22', 'target': '3'},\n  {'source': '22', 'target': '40'},\n  {'source': '22', 'target': '27'},\n  {'source': '23', 'target': '16'},\n  {'source': '23', 'target': '31'},\n  {'source': '23', 'target': '13'},\n  {'source': '23', 'target': '28'},\n  {'source': '24', 'target': '32'},\n  {'source': '24', 'target': '27'},\n  {'source': '24', 'target': '15'},\n  {'source': '25', 'target': '21'},\n  {'source': '26', 'target': '29'},\n  {'source': '26', 'target': '16'},\n  {'source': '26', 'target': '1'},\n  {'source': '27', 'target': '25'},\n  {'source': '27', 'target': '8'},\n  {'source': '27', 'target': '7'},\n  {'source': '27', 'target': '34'},\n  {'source': '28', 'target': '26'},\n  {'source': '29', 'target': '13'},\n  {'source': '29', 'target': '12'},\n  {'source': '29', 'target': '7'},\n  {'source': '29', 'target': '1'},\n  {'source': '30', 'target': '37'},\n  {'source': '31', 'target': '3'},\n  {'source': '32', 'target': '38'},\n  {'source': '33', 'target': '10'},\n  {'source': '34', 'target': '19'},\n  {'source': '34', 'target': '22'},\n  {'source': '34', 'target': '39'},\n  {'source': '35', 'target': '34'},\n  {'source': '35', 'target': '15'},\n  {'source': '35', 'target': '27'},\n  {'source': '36', 'target': '24'},\n  {'source': '36', 'target': '2'},\n  {'source': '36', 'target': '33'},\n  {'source': '36', 'target': '4'},\n  {'source': '37', 'target': '21'},\n  {'source': '37', 'target': '17'},\n  {'source': '37', 'target': '16'},\n  {'source': '38', 'target': '30'},\n  {'source': '38', 'target': '24'},\n  {'source': '39', 'target': '21'},\n  {'source': '40', 'target': '1'},\n  {'source': '40', 'target': '24'},\n  {'source': '40', 'target': '15'},\n  {'source': '40', 'target': '12'},\n  {'source': '1', 'target': '50'},\n  {'source': '1', 'target': '51'},\n  {'source': '1', 'target': '57'},\n  {'source': '1', 'target': '59'},\n  {'source': '2', 'target': '48'},\n  {'source': '2', 'target': '56'},\n  {'source': '3', 'target': '52'},\n  {'source': '3', 'target': '62'},\n  {'source': '4', 'target': '55'},\n  {'source': '5', 'target': '58'},\n  {'source': '5', 'target': '62'},\n  {'source': '6', 'target': '41'},\n  {'source': '6', 'target': '54'},\n  {'source': '6', 'target': '58'},\n  {'source': '6', 'target': '59'},\n  {'source': '7', 'target': '41'},\n  {'source': '7', 'target': '61'},\n  {'source': '7', 'target': '67'},\n  {'source': '8', 'target': '52'},\n  {'source': '8', 'target': '43'},\n  {'source': '8', 'target': '48'},\n  {'source': '8', 'target': '55'},\n  {'source': '8', 'target': '61'},\n  {'source': '8', 'target': '66'},\n  {'source': '9', 'target': '50'},\n  {'source': '9', 'target': '52'},\n  {'source': '9', 'target': '54'},\n  {'source': '9', 'target': '56'},\n  {'source': '9', 'target': '67'},\n  {'source': '10', 'target': '63'},\n  {'source': '11', 'target': '63'},\n  {'source': '12', 'target': '43'},\n  {'source': '12', 'target': '58'},\n  {'source': '13', 'target': '46'},\n  {'source': '13', 'target': '60'},\n  {'source': '13', 'target': '65'},\n  {'source': '14', 'target': '60'},\n  {'source': '15', 'target': '45'},\n  {'source': '15', 'target': '57'},\n  {'source': '15', 'target': '66'},\n  {'source': '16', 'target': '57'},\n  {'source': '16', 'target': '66'},\n  {'source': '17', 'target': '42'},\n  {'source': '17', 'target': '47'},\n  {'source': '17', 'target': '60'},\n  {'source': '17', 'target': '64'},\n  {'source': '18', 'target': '42'},\n  {'source': '19', 'target': '50'},\n  {'source': '19', 'target': '45'},\n  {'source': '19', 'target': '58'},\n  {'source': '19', 'target': '64'},\n  {'source': '20', 'target': '46'},\n  {'source': '20', 'target': '54'},\n  {'source': '20', 'target': '56'},\n  {'source': '21', 'target': '53'},\n  {'source': '21', 'target': '62'},\n  {'source': '22', 'target': '57'},\n  {'source': '22', 'target': '59'},\n  {'source': '22', 'target': '64'},\n  {'source': '23', 'target': '45'},\n  {'source': '23', 'target': '58'},\n  {'source': '23', 'target': '62'},\n  {'source': '24', 'target': '49'},\n  {'source': '24', 'target': '42'},\n  {'source': '24', 'target': '41'},\n  {'source': '24', 'target': '59'},\n  {'source': '24', 'target': '63'},\n  {'source': '25', 'target': '43'},\n  {'source': '26', 'target': '46'},\n  {'source': '26', 'target': '42'},\n  {'source': '26', 'target': '44'},\n  {'source': '26', 'target': '55'},\n  {'source': '26', 'target': '67'},\n  {'source': '27', 'target': '42'},\n  {'source': '27', 'target': '41'},\n  {'source': '27', 'target': '43'},\n  {'source': '27', 'target': '66'},\n  {'source': '28', 'target': '52'},\n  {'source': '29', 'target': '56'},\n  {'source': '30', 'target': '52'},\n  {'source': '30', 'target': '47'},\n  {'source': '30', 'target': '56'},\n  {'source': '30', 'target': '62'},\n  {'source': '30', 'target': '64'},\n  {'source': '31', 'target': '51'},\n  {'source': '31', 'target': '46'},\n  {'source': '31', 'target': '41'},\n  {'source': '31', 'target': '59'},\n  {'source': '32', 'target': '42'},\n  {'source': '32', 'target': '41'},\n  {'source': '32', 'target': '53'},\n  {'source': '32', 'target': '55'},\n  {'source': '32', 'target': '62'},\n  {'source': '32', 'target': '67'},\n  {'source': '33', 'target': '49'},\n  {'source': '33', 'target': '44'},\n  {'source': '33', 'target': '50'},\n  {'source': '33', 'target': '59'},\n  {'source': '34', 'target': '51'},\n  {'source': '34', 'target': '54'},\n  {'source': '34', 'target': '48'},\n  {'source': '34', 'target': '57'},\n  {'source': '34', 'target': '63'},\n  {'source': '35', 'target': '56'},\n  {'source': '35', 'target': '66'},\n  {'source': '36', 'target': '53'},\n  {'source': '36', 'target': '52'},\n  {'source': '36', 'target': '44'},\n  {'source': '36', 'target': '55'},\n  {'source': '36', 'target': '61'},\n  {'source': '37', 'target': '47'},\n  {'source': '37', 'target': '51'},\n  {'source': '37', 'target': '61'},\n  {'source': '39', 'target': '53'},\n  {'source': '39', 'target': '50'},\n  {'source': '39', 'target': '58'},\n  {'source': '39', 'target': '63'},\n  {'source': '40', 'target': '60'}],\n 'categories': [{'name': 'person', 'number': 40},\n  {'name': 'club', 'number': 14},\n  {'name': 'primary', 'number': 4},\n  {'name': 'junior', 'number': 4},\n  {'name': 'high', 'number': 5}]}"
     },
     "execution_count": 176,
     "metadata": {},
     "output_type": "execute_result"
    }
   ],
   "source": [
    "graph"
   ],
   "metadata": {
    "collapsed": false
   }
  },
  {
   "cell_type": "markdown",
   "source": [
    "## Write json file"
   ],
   "metadata": {
    "collapsed": false
   }
  },
  {
   "cell_type": "code",
   "execution_count": 177,
   "outputs": [],
   "source": [
    "import json"
   ],
   "metadata": {
    "collapsed": false
   }
  },
  {
   "cell_type": "code",
   "execution_count": 178,
   "outputs": [],
   "source": [
    "with open(\"graph_json/graph_random_category_with_cate_length.json\", 'w') as write_f:\n",
    "\tjson.dump(graph, write_f, indent=2, ensure_ascii=True)"
   ],
   "metadata": {
    "collapsed": false
   }
  },
  {
   "cell_type": "code",
   "execution_count": null,
   "outputs": [],
   "source": [],
   "metadata": {
    "collapsed": false
   }
  }
 ],
 "metadata": {
  "kernelspec": {
   "display_name": "Python 3",
   "language": "python",
   "name": "python3"
  },
  "language_info": {
   "codemirror_mode": {
    "name": "ipython",
    "version": 2
   },
   "file_extension": ".py",
   "mimetype": "text/x-python",
   "name": "python",
   "nbconvert_exporter": "python",
   "pygments_lexer": "ipython2",
   "version": "2.7.6"
  }
 },
 "nbformat": 4,
 "nbformat_minor": 0
}
