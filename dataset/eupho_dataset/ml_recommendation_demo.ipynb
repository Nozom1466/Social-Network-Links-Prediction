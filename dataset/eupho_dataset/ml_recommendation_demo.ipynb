{
 "cells": [
  {
   "cell_type": "code",
   "execution_count": 1,
   "metadata": {
    "collapsed": true
   },
   "outputs": [],
   "source": [
    "import networkx as nx"
   ]
  },
  {
   "cell_type": "code",
   "execution_count": 3,
   "outputs": [
    {
     "data": {
      "text/plain": "<Figure size 432x288 with 1 Axes>",
      "image/png": "[encoded data removed]"
     },
     "metadata": {},
     "output_type": "display_data"
    }
   ],
   "source": [
    "# Create a new graph\n",
    "G = nx.Graph()\n",
    "# Add nodes for the movies\n",
    "G.add_nodes_from([\"Movie 1\", \"Movie 2\", \"Movie 3\", \"Movie 4\"])\n",
    "# Add edges representing relationships between movies (e.g., similar genres)\n",
    "G.add_edge(\"Movie 1\", \"Movie 2\")\n",
    "G.add_edge(\"Movie 2\", \"Movie 3\")\n",
    "G.add_edge(\"Movie 3\", \"Movie 4\")\n",
    "\n",
    "nx.draw(G, with_labels=True)"
   ],
   "metadata": {
    "collapsed": false
   }
  },
  {
   "cell_type": "code",
   "execution_count": 6,
   "outputs": [
    {
     "name": "stdout",
     "output_type": "stream",
     "text": [
      "Movie 2\n",
      "Movie 3\n",
      "Movie 1\n"
     ]
    }
   ],
   "source": [
    "# Run the PageRank algorithm\n",
    "pr = nx.pagerank(G)\n",
    "# Sort the movies by their PageRank scores\n",
    "sorted_movies = sorted(pr.items(), key=lambda x: x[1], reverse=True)\n",
    "# Print the top movie recommendations for the user\n",
    "for movie, score in sorted_movies[:3]:\n",
    "    print(movie)"
   ],
   "metadata": {
    "collapsed": false
   }
  }
 ],
 "metadata": {
  "kernelspec": {
   "display_name": "Python 3",
   "language": "python",
   "name": "python3"
  },
  "language_info": {
   "codemirror_mode": {
    "name": "ipython",
    "version": 2
   },
   "file_extension": ".py",
   "mimetype": "text/x-python",
   "name": "python",
   "nbconvert_exporter": "python",
   "pygments_lexer": "ipython2",
   "version": "2.7.6"
  }
 },
 "nbformat": 4,
 "nbformat_minor": 0
}
